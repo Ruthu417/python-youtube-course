{
 "cells": [
  {
   "cell_type": "markdown",
   "metadata": {},
   "source": [
    "### Topics\n",
    "- Functions"
   ]
  },
  {
   "cell_type": "markdown",
   "metadata": {},
   "source": [
    "### Function\n",
    "- **Definition**\n",
    "    - a set / block of statements that are executed to perform a perticular/specific task\n",
    "- **syntax**\n",
    "    - def function_name(list of argument):\n",
    "        - statements/logic\n",
    "        - return\n",
    "    - return statement indicates the end of function\n",
    "- code reusability and modularity\n",
    "- simple and easy processing\n",
    "- 2 types:\n",
    "    - pre-defined/inbuilt functions\n",
    "        - these functions were defined when the language was developed/designed\n",
    "        - we no need to define them again,simply call and use them\n",
    "        - EX: int(value),float(),str(),ord(),chr(),list(),input(),dir() etc..\n",
    "    - user defined\n",
    "        - defined by the user\n",
    "        - 4 types:\n",
    "            - function with arguments and with return statement\n",
    "            - fun with args and without return statement\n",
    "            - fun without args and with return statement\n",
    "            - fun without args and without return statement\n",
    "            \n",
    " - function definition \n",
    "     - list of arguments\n",
    "     - definition/purpose/logic\n",
    " - function calling\n",
    "     - usage of function\n",
    "  - no fun declaration"
   ]
  },
  {
   "cell_type": "code",
   "execution_count": 3,
   "metadata": {},
   "outputs": [
    {
     "data": {
      "text/plain": [
       "13"
      ]
     },
     "execution_count": 3,
     "metadata": {},
     "output_type": "execute_result"
    }
   ],
   "source": [
    "# write a python program to add 2 no.s by using function\n",
    "# first type of function:fun with args and with return  statement\n",
    "def adding(f,s): # reference values\n",
    "    return f+s\n",
    "\n",
    "\n",
    "adding(9,4) # actual values/parameters\n"
   ]
  },
  {
   "cell_type": "code",
   "execution_count": 5,
   "metadata": {},
   "outputs": [
    {
     "name": "stdout",
     "output_type": "stream",
     "text": [
      "8\n",
      "23\n"
     ]
    },
    {
     "data": {
      "text/plain": [
       "31"
      ]
     },
     "execution_count": 5,
     "metadata": {},
     "output_type": "execute_result"
    }
   ],
   "source": [
    "adding(int(input()),int(input()))"
   ]
  },
  {
   "cell_type": "code",
   "execution_count": 6,
   "metadata": {},
   "outputs": [
    {
     "name": "stdout",
     "output_type": "stream",
     "text": [
      "first value:12\n",
      "second value:56\n",
      "addition= 68\n"
     ]
    }
   ],
   "source": [
    "print(\"addition=\",adding(int(input(\"first value:\")),int(input(\"second value:\"))))"
   ]
  },
  {
   "cell_type": "code",
   "execution_count": 8,
   "metadata": {},
   "outputs": [
    {
     "name": "stdout",
     "output_type": "stream",
     "text": [
      "sum= ruthunandini\n"
     ]
    }
   ],
   "source": [
    "# fun with args and without return statement\n",
    "def add2(x,y): # int/str\n",
    "    print(\"sum=\",x+y)\n",
    "    \n",
    "add2(\"ruthu\",\"nandini\")\n",
    "    "
   ]
  },
  {
   "cell_type": "code",
   "execution_count": 9,
   "metadata": {},
   "outputs": [
    {
     "name": "stdout",
     "output_type": "stream",
     "text": [
      "sum= 15\n"
     ]
    }
   ],
   "source": [
    "add2(10,5)"
   ]
  },
  {
   "cell_type": "code",
   "execution_count": 10,
   "metadata": {},
   "outputs": [
    {
     "name": "stdout",
     "output_type": "stream",
     "text": [
      "first value:8\n",
      "second value:6\n"
     ]
    },
    {
     "data": {
      "text/plain": [
       "14"
      ]
     },
     "execution_count": 10,
     "metadata": {},
     "output_type": "execute_result"
    }
   ],
   "source": [
    "# add3 fun without args and with return\n",
    "a,b=int(input(\"first value:\")),int(input(\"second value:\"))\n",
    "def add3():\n",
    "    return a+b # reference values\n",
    "\n",
    "add3() # acutal values"
   ]
  },
  {
   "cell_type": "code",
   "execution_count": 12,
   "metadata": {},
   "outputs": [
    {
     "name": "stdout",
     "output_type": "stream",
     "text": [
      "summation= 33\n"
     ]
    }
   ],
   "source": [
    "# 4th fun without args and without return\n",
    "def add4():\n",
    "    print(\"summation=\",i+j)\n",
    "\n",
    "i,j=10,23\n",
    "add4()"
   ]
  },
  {
   "cell_type": "code",
   "execution_count": 14,
   "metadata": {},
   "outputs": [
    {
     "data": {
      "text/plain": [
       "40"
      ]
     },
     "execution_count": 14,
     "metadata": {},
     "output_type": "execute_result"
    }
   ],
   "source": [
    "# keyword arguments\n",
    "#default args or keyword args\n",
    "def multiply(a,b=10):\n",
    "    return a*b\n",
    "\n",
    "multiply(4)"
   ]
  },
  {
   "cell_type": "code",
   "execution_count": 18,
   "metadata": {},
   "outputs": [
    {
     "name": "stdout",
     "output_type": "stream",
     "text": [
      "o\n",
      "o\n"
     ]
    }
   ],
   "source": [
    "# print the vowels present in the string read from user\n",
    "vowels=\"aeiouAEIOU\"\n",
    "def vowel(ch):\n",
    "    if ch in vowels:\n",
    "        print(ch)\n",
    "vowel(input())\n",
    "        "
   ]
  },
  {
   "cell_type": "code",
   "execution_count": null,
   "metadata": {},
   "outputs": [],
   "source": []
  }
 ],
 "metadata": {
  "kernelspec": {
   "display_name": "Python 3",
   "language": "python",
   "name": "python3"
  },
  "language_info": {
   "codemirror_mode": {
    "name": "ipython",
    "version": 3
   },
   "file_extension": ".py",
   "mimetype": "text/x-python",
   "name": "python",
   "nbconvert_exporter": "python",
   "pygments_lexer": "ipython3",
   "version": "3.7.4"
  }
 },
 "nbformat": 4,
 "nbformat_minor": 2
}
