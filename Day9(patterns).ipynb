{
 "cells": [
  {
   "cell_type": "markdown",
   "metadata": {},
   "source": [
    "### Nested For Loop\n",
    "- loop within loop \n",
    "- in main loop iterate sub loop\n",
    "- inner loop will be iterated with respect to outer loop\n",
    "- **syntax**\n",
    "    - for in range():\n",
    "        - for loop:\n",
    "            - statements\n",
    "- row and columns:matrix format\n",
    "- row:column\n",
    "    - ex:2x3--2 rows and 3 columns\n",
    "        - 0 1 2 -in first 3 columns\n",
    "        - 3 4 5 - 2nd 3 columns\n",
    "        "
   ]
  },
  {
   "cell_type": "markdown",
   "metadata": {},
   "source": [
    "### range(3 parameters)\n",
    "- used to store a range of values\n",
    "- x=10,name='telugu tech life'\n",
    "- (1,10) range\n",
    "- atleast one argument and atmost 3 args\n",
    "    - range(10):it stores 10 values by default 0 to 9:exclusive\n",
    "    - range(5,16)-- values from 5 to 15\n",
    "    - range(start,stop,step_count)\n",
    "        - alternate no.s within range(20 and 45)\n",
    "        - ex:range(20,46,2)"
   ]
  },
  {
   "cell_type": "code",
   "execution_count": 5,
   "metadata": {},
   "outputs": [
    {
     "name": "stdout",
     "output_type": "stream",
     "text": [
      "0\n",
      "1\n",
      "2\n",
      "3\n",
      "4\n",
      "5\n",
      "6\n",
      "7\n",
      "8\n",
      "9\n"
     ]
    }
   ],
   "source": [
    "nums=range(10) # 10 values\n",
    "nums #print() 1,2,3,4,5...10 # printing the values(repetition) iteration\n",
    "for num in nums:\n",
    "    print(num) # iteration"
   ]
  },
  {
   "cell_type": "code",
   "execution_count": 6,
   "metadata": {},
   "outputs": [
    {
     "name": "stdout",
     "output_type": "stream",
     "text": [
      "5 6 7 8 9 10 11 12 13 14 15 "
     ]
    }
   ],
   "source": [
    "bounds=range(5,16) # printing values side by side\n",
    "for dig in bounds:\n",
    "    print(dig,end=\" \")"
   ]
  },
  {
   "cell_type": "code",
   "execution_count": 7,
   "metadata": {},
   "outputs": [
    {
     "name": "stdout",
     "output_type": "stream",
     "text": [
      "20 22 24 26 28 30 32 34 36 38 40 42 44 "
     ]
    }
   ],
   "source": [
    "# 3rd arguments\n",
    "step=range(20,46,2)\n",
    "for num in step:\n",
    "    print(num,end=\" \")"
   ]
  },
  {
   "cell_type": "code",
   "execution_count": 8,
   "metadata": {
    "collapsed": true
   },
   "outputs": [
    {
     "ename": "SyntaxError",
     "evalue": "invalid syntax (<ipython-input-8-b7ffd71573e3>, line 4)",
     "output_type": "error",
     "traceback": [
      "\u001b[1;36m  File \u001b[1;32m\"<ipython-input-8-b7ffd71573e3>\"\u001b[1;36m, line \u001b[1;32m4\u001b[0m\n\u001b[1;33m    26+2=28...44+2=46\u001b[0m\n\u001b[1;37m               ^\u001b[0m\n\u001b[1;31mSyntaxError\u001b[0m\u001b[1;31m:\u001b[0m invalid syntax\n"
     ]
    }
   ],
   "source": [
    "20+2=22\n",
    "22+2=24\n",
    "24+2=26\n",
    "26+2=28...44+2=46"
   ]
  },
  {
   "cell_type": "code",
   "execution_count": 9,
   "metadata": {},
   "outputs": [
    {
     "name": "stdout",
     "output_type": "stream",
     "text": [
      "20 23 26 29 32 35 38 41 44 "
     ]
    }
   ],
   "source": [
    "# 3rd arguments\n",
    "step=range(20,46,3)\n",
    "for num in step:\n",
    "    print(num,end=\" \")"
   ]
  },
  {
   "cell_type": "code",
   "execution_count": 10,
   "metadata": {},
   "outputs": [
    {
     "name": "stdout",
     "output_type": "stream",
     "text": [
      "telugu tech life\n",
      "telugu tech life\n",
      "telugu tech life\n",
      "telugu tech life\n",
      "telugu tech life\n"
     ]
    }
   ],
   "source": [
    "# 1 to 5\n",
    "for num in range(5): # 1 2 3 4 5\n",
    "    print(\"telugu tech life\")\n",
    "    \n",
    "'''\n",
    "    num=1:\"telugu tech life\"\n",
    "    num=2: \"\"\n",
    "    num=3: \"\"\n",
    "    num=4: \"\"\n",
    "    num=5: \"\" '''"
   ]
  },
  {
   "cell_type": "code",
   "execution_count": 12,
   "metadata": {},
   "outputs": [
    {
     "name": "stdout",
     "output_type": "stream",
     "text": [
      "\n",
      "1 \n",
      "1 2 \n",
      "1 2 3 \n",
      "1 2 3 4 \n",
      "1 2 3 4 5 \n"
     ]
    }
   ],
   "source": [
    "for num in range(6): # main loop: 5times\n",
    "    for dig in range(1,num+1): # 1 to 2:1 time,2 times,3times(1 to 4)\n",
    "        print(dig,end=\" \")\n",
    "    print()"
   ]
  },
  {
   "cell_type": "code",
   "execution_count": 15,
   "metadata": {},
   "outputs": [
    {
     "name": "stdout",
     "output_type": "stream",
     "text": [
      "enter pattern size6\n",
      "\n",
      "1 \n",
      "2 2 \n",
      "3 3 3 \n",
      "4 4 4 4 \n",
      "5 5 5 5 5 \n"
     ]
    }
   ],
   "source": [
    "n=int(input(\"enter pattern size\"))\n",
    "for num in range(n): # 1 to n-1:6;5times:1 2 3 4 5\n",
    "    for dig in range(1,num+1): # that many times num is printed\n",
    "        print(num,end=\" \")\n",
    "    print()"
   ]
  },
  {
   "cell_type": "code",
   "execution_count": 16,
   "metadata": {},
   "outputs": [
    {
     "name": "stdout",
     "output_type": "stream",
     "text": [
      "1 2 3 4 5 6 \n",
      "1 2 3 4 5 6 \n",
      "1 2 3 4 5 6 \n",
      "1 2 3 4 5 6 \n",
      "1 2 3 4 5 6 \n",
      "1 2 3 4 5 6 \n"
     ]
    }
   ],
   "source": [
    "# square pattern:nxn:printing col values\n",
    "for num in range(n): # 5times\n",
    "    for dig in range(1,n+1):  #5times\n",
    "        print(dig,end=\" \")\n",
    "    print()"
   ]
  },
  {
   "cell_type": "code",
   "execution_count": 17,
   "metadata": {},
   "outputs": [
    {
     "name": "stdout",
     "output_type": "stream",
     "text": [
      "0 0 0 0 0 0 \n",
      "1 1 1 1 1 1 \n",
      "2 2 2 2 2 2 \n",
      "3 3 3 3 3 3 \n",
      "4 4 4 4 4 4 \n",
      "5 5 5 5 5 5 \n"
     ]
    }
   ],
   "source": [
    "# sqaure pattern\n",
    "for row in range(n):\n",
    "    for col in range(n):\n",
    "        print(row,end=\" \")\n",
    "    print()"
   ]
  },
  {
   "cell_type": "code",
   "execution_count": 5,
   "metadata": {},
   "outputs": [
    {
     "name": "stdout",
     "output_type": "stream",
     "text": [
      "3\n",
      "4\n",
      "1 2 3 \n",
      "1 2 3 \n",
      "1 2 3 \n"
     ]
    }
   ],
   "source": [
    "#nxn matrix\n",
    "m,n=int(input()),int(input())\n",
    "for row in range(m):\n",
    "    for col in range(1,m+1):\n",
    "        print(col,end=\" \")\n",
    "    print()"
   ]
  },
  {
   "cell_type": "code",
   "execution_count": 8,
   "metadata": {},
   "outputs": [
    {
     "name": "stdout",
     "output_type": "stream",
     "text": [
      "5\n",
      "7\n",
      "1 1 1 1 1 1 1 \n",
      "2 2 2 2 2 2 2 \n",
      "3 3 3 3 3 3 3 \n",
      "4 4 4 4 4 4 4 \n",
      "5 5 5 5 5 5 5 \n"
     ]
    }
   ],
   "source": [
    "# mxn matrix=3x4\n",
    "f,s=int(input()),int(input())\n",
    "for num in range(1,f+1):\n",
    "    for val in range(1,s+1):\n",
    "        print(num,end=\" \") # i=1;i=2;i=3;i=4;i=5;\n",
    "    print()"
   ]
  },
  {
   "cell_type": "code",
   "execution_count": null,
   "metadata": {},
   "outputs": [],
   "source": []
  }
 ],
 "metadata": {
  "kernelspec": {
   "display_name": "Python 3",
   "language": "python",
   "name": "python3"
  },
  "language_info": {
   "codemirror_mode": {
    "name": "ipython",
    "version": 3
   },
   "file_extension": ".py",
   "mimetype": "text/x-python",
   "name": "python",
   "nbconvert_exporter": "python",
   "pygments_lexer": "ipython3",
   "version": "3.7.4"
  }
 },
 "nbformat": 4,
 "nbformat_minor": 2
}
