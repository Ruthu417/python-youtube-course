{
 "cells": [
  {
   "cell_type": "markdown",
   "metadata": {
    "collapsed": true
   },
   "source": [
    "### Dictionary\n",
    "- it is most important and prominant\n",
    "- (),[]-->value of information\n",
    "- pair data structure where it contains 2 values\n",
    "- key and value\n",
    "    - {key:value}\n",
    "    - search word:meaning\n",
    "    - google:search and relevant data\n",
    "    - dictionary,2 values \n",
    "- keys are unique in nature\n",
    "    - may be of any data type\n",
    "        - int,float,str\n",
    "    - will acts as indices to the data/information\n",
    "- values can be of any data structure\n",
    "    - tuple,list,string,set,dict\n",
    "- 0 to len(iterable)-1\n",
    "- mutable in nature\n",
    "    - we can update,modify and delete the data from dict\n",
    "- (key,val)--item"
   ]
  },
  {
   "cell_type": "code",
   "execution_count": 1,
   "metadata": {},
   "outputs": [
    {
     "data": {
      "text/plain": [
       "{1: 34, 'hi': 'name'}"
      ]
     },
     "execution_count": 1,
     "metadata": {},
     "output_type": "execute_result"
    }
   ],
   "source": [
    "dict({1:34,\"hi\":'name'})"
   ]
  },
  {
   "cell_type": "code",
   "execution_count": 20,
   "metadata": {},
   "outputs": [
    {
     "name": "stdout",
     "output_type": "stream",
     "text": [
      "{12: 'twelve', 'cgpa': 9.5, 'name': 'telugutechlife', 123: 456}\n"
     ]
    }
   ],
   "source": [
    "d={12:\"twelve\",'cgpa':9.5,'name':\"telugutechlife\",123:456}\n",
    "print(d)"
   ]
  },
  {
   "cell_type": "code",
   "execution_count": null,
   "metadata": {},
   "outputs": [],
   "source": [
    "it[index] # keys\n",
    "dict[key]=value"
   ]
  },
  {
   "cell_type": "code",
   "execution_count": 4,
   "metadata": {},
   "outputs": [
    {
     "data": {
      "text/plain": [
       "'telugutechlife'"
      ]
     },
     "execution_count": 4,
     "metadata": {},
     "output_type": "execute_result"
    }
   ],
   "source": [
    "d['name']"
   ]
  },
  {
   "cell_type": "code",
   "execution_count": 5,
   "metadata": {},
   "outputs": [
    {
     "data": {
      "text/plain": [
       "456"
      ]
     },
     "execution_count": 5,
     "metadata": {},
     "output_type": "execute_result"
    }
   ],
   "source": [
    "d[123]"
   ]
  },
  {
   "cell_type": "code",
   "execution_count": 6,
   "metadata": {
    "collapsed": true
   },
   "outputs": [
    {
     "name": "stdout",
     "output_type": "stream",
     "text": [
      "12\n",
      "cgpa\n",
      "name\n",
      "123\n"
     ]
    }
   ],
   "source": [
    "for item in d: # only keys,\n",
    "    print(item)"
   ]
  },
  {
   "cell_type": "markdown",
   "metadata": {},
   "source": [
    "#### Dictionary methods"
   ]
  },
  {
   "cell_type": "code",
   "execution_count": 7,
   "metadata": {},
   "outputs": [],
   "source": [
    "# add new data into the dict\n",
    "d[\"new key\"]=\"adding at the end\""
   ]
  },
  {
   "cell_type": "code",
   "execution_count": 8,
   "metadata": {
    "collapsed": true
   },
   "outputs": [
    {
     "data": {
      "text/plain": [
       "{12: 'twelve',\n",
       " 'cgpa': 9.5,\n",
       " 'name': 'telugutechlife',\n",
       " 123: 456,\n",
       " 'new key': 'adding at the end'}"
      ]
     },
     "execution_count": 8,
     "metadata": {},
     "output_type": "execute_result"
    }
   ],
   "source": [
    "d"
   ]
  },
  {
   "cell_type": "code",
   "execution_count": 9,
   "metadata": {},
   "outputs": [],
   "source": [
    "# cgpa=9.5,10\n",
    "d['cgpa']=10 # updating the value/data in dictionary"
   ]
  },
  {
   "cell_type": "code",
   "execution_count": 10,
   "metadata": {
    "collapsed": true
   },
   "outputs": [
    {
     "data": {
      "text/plain": [
       "{12: 'twelve',\n",
       " 'cgpa': 10,\n",
       " 'name': 'telugutechlife',\n",
       " 123: 456,\n",
       " 'new key': 'adding at the end'}"
      ]
     },
     "execution_count": 10,
     "metadata": {},
     "output_type": "execute_result"
    }
   ],
   "source": [
    "d"
   ]
  },
  {
   "cell_type": "code",
   "execution_count": 21,
   "metadata": {},
   "outputs": [],
   "source": [
    "dic={12:'hi',34:'hey','names':['vanitha','nandini'],12:'hello'}"
   ]
  },
  {
   "cell_type": "code",
   "execution_count": 22,
   "metadata": {},
   "outputs": [
    {
     "data": {
      "text/plain": [
       "{12: 'hello', 34: 'hey', 'names': ['vanitha', 'nandini']}"
      ]
     },
     "execution_count": 22,
     "metadata": {},
     "output_type": "execute_result"
    }
   ],
   "source": [
    "dic"
   ]
  },
  {
   "cell_type": "code",
   "execution_count": 15,
   "metadata": {
    "collapsed": true
   },
   "outputs": [
    {
     "data": {
      "text/plain": [
       "['__class__',\n",
       " '__contains__',\n",
       " '__delattr__',\n",
       " '__delitem__',\n",
       " '__dir__',\n",
       " '__doc__',\n",
       " '__eq__',\n",
       " '__format__',\n",
       " '__ge__',\n",
       " '__getattribute__',\n",
       " '__getitem__',\n",
       " '__gt__',\n",
       " '__hash__',\n",
       " '__init__',\n",
       " '__init_subclass__',\n",
       " '__iter__',\n",
       " '__le__',\n",
       " '__len__',\n",
       " '__lt__',\n",
       " '__ne__',\n",
       " '__new__',\n",
       " '__reduce__',\n",
       " '__reduce_ex__',\n",
       " '__repr__',\n",
       " '__setattr__',\n",
       " '__setitem__',\n",
       " '__sizeof__',\n",
       " '__str__',\n",
       " '__subclasshook__',\n",
       " 'clear',\n",
       " 'copy',\n",
       " 'fromkeys',\n",
       " 'get',\n",
       " 'items',\n",
       " 'keys',\n",
       " 'pop',\n",
       " 'popitem',\n",
       " 'setdefault',\n",
       " 'update',\n",
       " 'values']"
      ]
     },
     "execution_count": 15,
     "metadata": {},
     "output_type": "execute_result"
    }
   ],
   "source": [
    "dir(dict)"
   ]
  },
  {
   "cell_type": "code",
   "execution_count": 16,
   "metadata": {},
   "outputs": [],
   "source": [
    "dic.clear() # it empties the dictionary"
   ]
  },
  {
   "cell_type": "markdown",
   "metadata": {},
   "source": [
    "**dic.keys()**\n",
    "    - list of keys in dict\n",
    "**dic.values()**\n",
    "    - list of values in dict\n",
    "**dic.get(key)**\n",
    "    - value from dict\n",
    "**dic.popitem()**\n",
    "    - removes the last item from dict\n",
    "**dic.pop(key)**\n",
    "    - removes the perticular item\n",
    "**dic.update({})**\n",
    "    - update the existing dict\n",
    "**dic.items()**\n",
    "    - list of tuples of items"
   ]
  },
  {
   "cell_type": "code",
   "execution_count": 23,
   "metadata": {},
   "outputs": [
    {
     "data": {
      "text/plain": [
       "{12: 'hello', 34: 'hey', 'names': ['vanitha', 'nandini']}"
      ]
     },
     "execution_count": 23,
     "metadata": {},
     "output_type": "execute_result"
    }
   ],
   "source": [
    "dic"
   ]
  },
  {
   "cell_type": "code",
   "execution_count": 24,
   "metadata": {},
   "outputs": [
    {
     "data": {
      "text/plain": [
       "dict_keys([12, 34, 'names'])"
      ]
     },
     "execution_count": 24,
     "metadata": {},
     "output_type": "execute_result"
    }
   ],
   "source": [
    "dic.keys()"
   ]
  },
  {
   "cell_type": "code",
   "execution_count": 25,
   "metadata": {},
   "outputs": [
    {
     "data": {
      "text/plain": [
       "dict_values(['hello', 'hey', ['vanitha', 'nandini']])"
      ]
     },
     "execution_count": 25,
     "metadata": {},
     "output_type": "execute_result"
    }
   ],
   "source": [
    "dic.values()"
   ]
  },
  {
   "cell_type": "code",
   "execution_count": 27,
   "metadata": {},
   "outputs": [
    {
     "name": "stdout",
     "output_type": "stream",
     "text": [
      "dict_items([(12, 'hello'), (34, 'hey'), ('names', ['vanitha', 'nandini'])])\n"
     ]
    }
   ],
   "source": [
    "print(dic.items())"
   ]
  },
  {
   "cell_type": "code",
   "execution_count": 28,
   "metadata": {
    "collapsed": true
   },
   "outputs": [
    {
     "ename": "SyntaxError",
     "evalue": "invalid syntax (<ipython-input-28-f42e387797a5>, line 3)",
     "output_type": "error",
     "traceback": [
      "\u001b[1;36m  File \u001b[1;32m\"<ipython-input-28-f42e387797a5>\"\u001b[1;36m, line \u001b[1;32m3\u001b[0m\n\u001b[1;33m    key3:val3..\u001b[0m\n\u001b[1;37m              ^\u001b[0m\n\u001b[1;31mSyntaxError\u001b[0m\u001b[1;31m:\u001b[0m invalid syntax\n"
     ]
    }
   ],
   "source": [
    "key1:val1\n",
    "key2:val2\n",
    "key3:val3.."
   ]
  },
  {
   "cell_type": "code",
   "execution_count": 29,
   "metadata": {},
   "outputs": [
    {
     "name": "stdout",
     "output_type": "stream",
     "text": [
      "(12, 'hello')\n",
      "(34, 'hey')\n",
      "('names', ['vanitha', 'nandini'])\n"
     ]
    }
   ],
   "source": [
    "for item in dic.items():\n",
    "    print(item) # key,val"
   ]
  },
  {
   "cell_type": "code",
   "execution_count": 30,
   "metadata": {},
   "outputs": [
    {
     "name": "stdout",
     "output_type": "stream",
     "text": [
      "12:hello\n",
      "34:hey\n",
      "names:['vanitha', 'nandini']\n"
     ]
    }
   ],
   "source": [
    "for key,val in dic.items():\n",
    "    print(key,val,sep=\":\")"
   ]
  },
  {
   "cell_type": "code",
   "execution_count": 32,
   "metadata": {},
   "outputs": [
    {
     "name": "stdout",
     "output_type": "stream",
     "text": [
      "12:hello\n",
      "34:hey\n",
      "names:['vanitha', 'nandini']\n"
     ]
    }
   ],
   "source": [
    "for key,val in zip(dic.keys(),dic.values()):\n",
    "    print(key,val,sep=\":\")"
   ]
  },
  {
   "cell_type": "code",
   "execution_count": 33,
   "metadata": {},
   "outputs": [
    {
     "data": {
      "text/plain": [
       "['vanitha', 'nandini']"
      ]
     },
     "execution_count": 33,
     "metadata": {},
     "output_type": "execute_result"
    }
   ],
   "source": [
    "dic.get(\"names\") # value of the name"
   ]
  },
  {
   "cell_type": "code",
   "execution_count": 34,
   "metadata": {},
   "outputs": [
    {
     "data": {
      "text/plain": [
       "('names', ['vanitha', 'nandini'])"
      ]
     },
     "execution_count": 34,
     "metadata": {},
     "output_type": "execute_result"
    }
   ],
   "source": [
    "dic.popitem()"
   ]
  },
  {
   "cell_type": "code",
   "execution_count": 35,
   "metadata": {},
   "outputs": [
    {
     "data": {
      "text/plain": [
       "'hello'"
      ]
     },
     "execution_count": 35,
     "metadata": {},
     "output_type": "execute_result"
    }
   ],
   "source": [
    "dic.pop(12)"
   ]
  },
  {
   "cell_type": "code",
   "execution_count": 36,
   "metadata": {},
   "outputs": [
    {
     "data": {
      "text/plain": [
       "{34: 'hey'}"
      ]
     },
     "execution_count": 36,
     "metadata": {},
     "output_type": "execute_result"
    }
   ],
   "source": [
    "dic"
   ]
  },
  {
   "cell_type": "code",
   "execution_count": 37,
   "metadata": {},
   "outputs": [],
   "source": [
    "dic.update({'st':'ruthu','new':('new','data')})"
   ]
  },
  {
   "cell_type": "code",
   "execution_count": 38,
   "metadata": {},
   "outputs": [
    {
     "data": {
      "text/plain": [
       "{34: 'hey', 'st': 'ruthu', 'new': ('new', 'data')}"
      ]
     },
     "execution_count": 38,
     "metadata": {},
     "output_type": "execute_result"
    }
   ],
   "source": [
    "dic"
   ]
  },
  {
   "cell_type": "code",
   "execution_count": 39,
   "metadata": {},
   "outputs": [],
   "source": [
    "dic2=dic.copy() # duplicate of dic"
   ]
  },
  {
   "cell_type": "code",
   "execution_count": 44,
   "metadata": {
    "collapsed": true
   },
   "outputs": [
    {
     "ename": "SyntaxError",
     "evalue": "invalid syntax (<ipython-input-44-c563f4e1d951>, line 2)",
     "output_type": "error",
     "traceback": [
      "\u001b[1;36m  File \u001b[1;32m\"<ipython-input-44-c563f4e1d951>\"\u001b[1;36m, line \u001b[1;32m2\u001b[0m\n\u001b[1;33m    - write a program to display the menu card of items\u001b[0m\n\u001b[1;37m            ^\u001b[0m\n\u001b[1;31mSyntaxError\u001b[0m\u001b[1;31m:\u001b[0m invalid syntax\n"
     ]
    }
   ],
   "source": [
    "#### work with dictionary\n",
    "- write a build an application to display the menu card of items\n",
    "- the customer has to place the order and he will given corresponding bill at the end"
   ]
  },
  {
   "cell_type": "code",
   "execution_count": null,
   "metadata": {},
   "outputs": [],
   "source": [
    "Fried Rice:70/-\n",
    "Noodles:60/-\n",
    "Veg Biryani:100/-\n",
    "Roti:30/-\n",
    "Chapati:30/-\n",
    "Meals:50/-\n",
    "Cashew Chicken:150/-\n",
    "Any Cool drink:30/-\n",
    "Coffee:20/-\n",
    "Chicken Biryani:180/-\n",
    "Dosa:25/-\n",
    "Idly:25/-\n",
    "Manchurian:50/-\n",
    "......\n",
    "Noodles,Dosa=85/-"
   ]
  },
  {
   "cell_type": "code",
   "execution_count": 1,
   "metadata": {
    "collapsed": true
   },
   "outputs": [
    {
     "name": "stdout",
     "output_type": "stream",
     "text": [
      "Available Items...\n",
      "\n",
      "Idly : Rs. 25 /-\n",
      "Chapati : Rs. 30 /-\n",
      "Dosa : Rs. 25 /-\n",
      "Coffee : Rs. 20 /-\n",
      "Meals : Rs. 70 /-\n",
      "Noodles : Rs. 60 /-\n",
      "Fried Rice : Rs. 60 /-\n",
      "Veg Biryani : Rs. 100 /-\n",
      "Chicken Biryani : Rs. 180 /-\n",
      "Manchurian : Rs. 50 /-\n",
      "Cashew chicken : Rs. 150 /-\n",
      "Give your order:Chicken Biryani,Meals,coffee\n",
      "Sorry coffee not avialable\n",
      "Your total bill is  250\n"
     ]
    }
   ],
   "source": [
    "menu={\"Idly\":25,\"Chapati\":30,'Dosa':25,'Coffee':20,'Meals':70,'Noodles':60\n",
    "     ,\"Fried Rice\":60,'Veg Biryani':100,'Chicken Biryani':180,'Manchurian':50,'Cashew chicken':150}\n",
    "#print(menu)\n",
    "print(\"Available Items...\\n\")\n",
    "for item,price in menu.items():\n",
    "    print(item,\":\",'Rs.',price,'/-')\n",
    "bill=0\n",
    "order=input(\"Give your order:\").split(\",\")\n",
    "for item in order:\n",
    "    if item in menu:\n",
    "        bill+=menu[item]\n",
    "    elif item not in menu:\n",
    "        print(\"Sorry\",item,\"not avialable\")\n",
    "print(\"Your total bill is \",bill)"
   ]
  },
  {
   "cell_type": "code",
   "execution_count": null,
   "metadata": {},
   "outputs": [],
   "source": [
    "# contact application"
   ]
  },
  {
   "cell_type": "code",
   "execution_count": null,
   "metadata": {},
   "outputs": [],
   "source": []
  }
 ],
 "metadata": {
  "kernelspec": {
   "display_name": "Python 3",
   "language": "python",
   "name": "python3"
  },
  "language_info": {
   "codemirror_mode": {
    "name": "ipython",
    "version": 3
   },
   "file_extension": ".py",
   "mimetype": "text/x-python",
   "name": "python",
   "nbconvert_exporter": "python",
   "pygments_lexer": "ipython3",
   "version": "3.7.4"
  }
 },
 "nbformat": 4,
 "nbformat_minor": 2
}
