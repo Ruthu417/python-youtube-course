{
 "cells": [
  {
   "cell_type": "code",
   "execution_count": 1,
   "metadata": {},
   "outputs": [],
   "source": [
    "# work with function\n",
    "# what is the difference b/w return and print\n",
    "# by using functions"
   ]
  },
  {
   "cell_type": "markdown",
   "metadata": {},
   "source": [
    "### return \n",
    "- return the values to the processor/interpretor\n",
    "- \"\"content displays to user\"\"\n",
    "- return 1 value everytime"
   ]
  },
  {
   "cell_type": "code",
   "execution_count": 2,
   "metadata": {},
   "outputs": [
    {
     "name": "stdout",
     "output_type": "stream",
     "text": [
      "10\n",
      "1 2 5 10 "
     ]
    }
   ],
   "source": [
    "# find factors of a number using functions\n",
    "''' x)y(any\n",
    "        --0 and y is the factor of x and x is the multiple of y '''\n",
    "        \n",
    "def finding_factors(n): # reference of n\n",
    "    for num in range(1,n+1):\n",
    "        if n%num==0:\n",
    "            print(num,end=\" \")\n",
    "        \n",
    "finding_factors(int(input())) # actual value dynamic"
   ]
  },
  {
   "cell_type": "code",
   "execution_count": 3,
   "metadata": {},
   "outputs": [
    {
     "data": {
      "text/plain": [
       "1"
      ]
     },
     "execution_count": 3,
     "metadata": {},
     "output_type": "execute_result"
    }
   ],
   "source": [
    "def finding_factors_while(n):\n",
    "    num=1;\n",
    "    while num<=n:\n",
    "        if n%num is 0:\n",
    "            return num # 1 end \n",
    "    num+=1 # function but not in loops\n",
    "    \n",
    "finding_factors_while(15)"
   ]
  },
  {
   "cell_type": "code",
   "execution_count": 1,
   "metadata": {},
   "outputs": [
    {
     "name": "stdout",
     "output_type": "stream",
     "text": [
      "1 3 5 15 "
     ]
    }
   ],
   "source": [
    "def finding_factors_while(n):\n",
    "    num=1;\n",
    "    while num<=n:\n",
    "        if n%num is 0:\n",
    "            print(num,end=\" \")\n",
    "        num+=1\n",
    "    \n",
    "finding_factors_while(15)"
   ]
  },
  {
   "cell_type": "code",
   "execution_count": 2,
   "metadata": {},
   "outputs": [
    {
     "data": {
      "text/plain": [
       "1"
      ]
     },
     "execution_count": 2,
     "metadata": {},
     "output_type": "execute_result"
    }
   ],
   "source": [
    "def finding_factors_while(n):\n",
    "    num=1;\n",
    "    while num<=n:\n",
    "        if n%num is 0:\n",
    "            return num\n",
    "        num+=1\n",
    "    \n",
    "finding_factors_while(15)"
   ]
  },
  {
   "cell_type": "code",
   "execution_count": 3,
   "metadata": {},
   "outputs": [
    {
     "data": {
      "text/plain": [
       "True"
      ]
     },
     "execution_count": 3,
     "metadata": {},
     "output_type": "execute_result"
    }
   ],
   "source": [
    "# write a python program to check a given no.is prime or not\n",
    "def is_prime(p):\n",
    "    count=0\n",
    "    for num in range(1,p+1):\n",
    "        if p%num is 0:\n",
    "            count+=1\n",
    "    if count==2:\n",
    "        return True\n",
    "    else:return False\n",
    "    \n",
    "is_prime(13)"
   ]
  },
  {
   "cell_type": "code",
   "execution_count": 4,
   "metadata": {},
   "outputs": [
    {
     "data": {
      "text/plain": [
       "False"
      ]
     },
     "execution_count": 4,
     "metadata": {},
     "output_type": "execute_result"
    }
   ],
   "source": [
    "is_prime(8)"
   ]
  },
  {
   "cell_type": "code",
   "execution_count": 1,
   "metadata": {},
   "outputs": [
    {
     "name": "stdout",
     "output_type": "stream",
     "text": [
      "2 3 5 7 11 13 17 19 23 29 31 37 41 43 47 53 59 61 67 71 73 79 83 89 97 "
     ]
    }
   ],
   "source": [
    "# program to find prime no.s present within a range\n",
    "#lw,up=int(input()),int(input())\n",
    "# 1 to 100 prime nos.;\n",
    "#factors=0:1 to n:factors(n%dig)==0\n",
    "for num in range(1,100):\n",
    "    factors=0\n",
    "    for dig in range(1,num+1):\n",
    "        if num%dig==0:\n",
    "            factors+=1\n",
    "    if factors==2:\n",
    "        print(num,end=\" \")"
   ]
  },
  {
   "cell_type": "code",
   "execution_count": 5,
   "metadata": {},
   "outputs": [
    {
     "name": "stdout",
     "output_type": "stream",
     "text": [
      "100\n",
      "200\n",
      "101 103 107 109 113 127 131 137 139 149 151 157 163 167 173 179 181 191 193 197 199 "
     ]
    }
   ],
   "source": [
    "def is_prime(p):\n",
    "    count=0\n",
    "    for num in range(1,p+1):\n",
    "        if p%num is 0:\n",
    "            count+=1\n",
    "    if count==2:\n",
    "        return True\n",
    "    else:return False\n",
    "    \n",
    "for num in range(int(input()),int(input())):\n",
    "    if is_prime(num):\n",
    "        print(num,end=\" \")"
   ]
  },
  {
   "cell_type": "code",
   "execution_count": 10,
   "metadata": {},
   "outputs": [
    {
     "name": "stdout",
     "output_type": "stream",
     "text": [
      "101 103 107 109 113 127 131 137 139 149 151 157 163 167 173 179 181 191 193 197 199 "
     ]
    }
   ],
   "source": [
    "#define a function that reads 2 limits and print prime no.s present in it\n",
    "def prime_range(lw,up):\n",
    "    for each in range(lw,up+1):\n",
    "        count=0\n",
    "        for dig in range(1,each//2+1):\n",
    "            if each%dig==0:\n",
    "                count+=1\n",
    "        if count is 1:\n",
    "            print(each,end=\" \")\n",
    "            \n",
    "lw,up=100,200           \n",
    "prime_range(lw,up)"
   ]
  },
  {
   "cell_type": "code",
   "execution_count": 11,
   "metadata": {},
   "outputs": [
    {
     "name": "stdout",
     "output_type": "stream",
     "text": [
      "not prime\n"
     ]
    }
   ],
   "source": [
    "# return and print\n",
    "def is_prime2(p):\n",
    "    count=0\n",
    "    for num in range(1,p+1):\n",
    "        if p%num is 0:\n",
    "            count+=1\n",
    "    if count==2:\n",
    "        print(\"prime\")\n",
    "    else:print(\"not prime\")\n",
    "        \n",
    "is_prime2(9)"
   ]
  },
  {
   "cell_type": "code",
   "execution_count": 12,
   "metadata": {},
   "outputs": [
    {
     "name": "stdout",
     "output_type": "stream",
     "text": [
      "prime\n"
     ]
    }
   ],
   "source": [
    "is_prime2(11)"
   ]
  },
  {
   "cell_type": "code",
   "execution_count": 14,
   "metadata": {
    "collapsed": true
   },
   "outputs": [
    {
     "name": "stdout",
     "output_type": "stream",
     "text": [
      "not prime\n",
      "prime\n",
      "prime\n",
      "not prime\n",
      "prime\n",
      "not prime\n",
      "prime\n",
      "not prime\n",
      "not prime\n",
      "not prime\n",
      "prime\n",
      "not prime\n",
      "prime\n",
      "not prime\n",
      "not prime\n",
      "not prime\n",
      "prime\n",
      "not prime\n",
      "prime\n",
      "not prime\n",
      "not prime\n",
      "not prime\n",
      "prime\n",
      "not prime\n",
      "not prime\n",
      "not prime\n",
      "not prime\n",
      "not prime\n",
      "prime\n"
     ]
    }
   ],
   "source": [
    "for num in range(1,30):\n",
    "    if is_prime2(num):\n",
    "        print(num,end=\" \")"
   ]
  },
  {
   "cell_type": "code",
   "execution_count": 5,
   "metadata": {},
   "outputs": [
    {
     "name": "stdout",
     "output_type": "stream",
     "text": [
      "10\n",
      "40\n"
     ]
    }
   ],
   "source": [
    "# while loop in functions\n",
    "f,s=int(input()),int(input())\n",
    "for num in range(f,s+1):\n",
    "    count,it=0,1\n",
    "    while it<=f:\n",
    "        if f%it==0:\n",
    "            count+=1\n",
    "        it+=1\n",
    "    if count==2:\n",
    "        print(num,end=\" \")"
   ]
  },
  {
   "cell_type": "code",
   "execution_count": null,
   "metadata": {},
   "outputs": [],
   "source": []
  }
 ],
 "metadata": {
  "kernelspec": {
   "display_name": "Python 3",
   "language": "python",
   "name": "python3"
  },
  "language_info": {
   "codemirror_mode": {
    "name": "ipython",
    "version": 3
   },
   "file_extension": ".py",
   "mimetype": "text/x-python",
   "name": "python",
   "nbconvert_exporter": "python",
   "pygments_lexer": "ipython3",
   "version": "3.7.4"
  }
 },
 "nbformat": 4,
 "nbformat_minor": 2
}
