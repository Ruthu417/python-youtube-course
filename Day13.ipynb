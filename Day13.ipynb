{
 "cells": [
  {
   "cell_type": "markdown",
   "metadata": {},
   "source": [
    "### loops in reverse order\n",
    "- up,low,-1(by default)\n",
    "- **for:\n",
    "    - (up,low,-1)\n",
    "- **while:\n",
    "    - iteration starts from upper to lower bound\n",
    "    - -1"
   ]
  },
  {
   "cell_type": "code",
   "execution_count": 1,
   "metadata": {},
   "outputs": [
    {
     "name": "stdout",
     "output_type": "stream",
     "text": [
      "20 19 18 17 16 15 14 13 12 11 10 9 8 7 6 5 4 3 "
     ]
    }
   ],
   "source": [
    "# program to print numbers from 20 to 3\n",
    "for num in range(20,2,-1):\n",
    "    print(num,end=\" \")"
   ]
  },
  {
   "cell_type": "code",
   "execution_count": 2,
   "metadata": {},
   "outputs": [],
   "source": [
    "for num in range(20,2): # \n",
    "    print(num,end=\" \")"
   ]
  },
  {
   "cell_type": "code",
   "execution_count": 5,
   "metadata": {},
   "outputs": [
    {
     "name": "stdout",
     "output_type": "stream",
     "text": [
      "upper bound:51\n",
      "lower bound:20\n",
      "51 49 47 45 43 41 39 37 35 33 31 29 27 25 23 21 "
     ]
    }
   ],
   "source": [
    "# odd no.s present in a range from highest to lowest\n",
    "up=int(input(\"upper bound:\"))\n",
    "lw=int(input(\"lower bound:\"))\n",
    "for num in range(up,lw,-2):\n",
    "    print(num,end=\" \")"
   ]
  },
  {
   "cell_type": "code",
   "execution_count": 1,
   "metadata": {},
   "outputs": [
    {
     "name": "stdout",
     "output_type": "stream",
     "text": [
      "10 9 8 7 6 5 4 3 2 1 "
     ]
    }
   ],
   "source": [
    "# by using while loop\n",
    "num=10\n",
    "while num>=1:\n",
    "    print(num,end=\" \")\n",
    "    num-=1 # num=num-1"
   ]
  },
  {
   "cell_type": "code",
   "execution_count": 4,
   "metadata": {},
   "outputs": [
    {
     "name": "stdout",
     "output_type": "stream",
     "text": [
      "upper bound:60\n",
      "lower bound:29\n",
      "60 58 56 54 52 50 48 46 44 42 40 38 36 34 32 30 "
     ]
    }
   ],
   "source": [
    "# using while even no.s\n",
    "s,f=int(input(\"upper bound:\")),int(input(\"lower bound:\"))\n",
    "#num=s\n",
    "while s>=f:\n",
    "    print(s,end=\" \")\n",
    "    s-=2"
   ]
  },
  {
   "cell_type": "code",
   "execution_count": null,
   "metadata": {},
   "outputs": [],
   "source": []
  }
 ],
 "metadata": {
  "kernelspec": {
   "display_name": "Python 3",
   "language": "python",
   "name": "python3"
  },
  "language_info": {
   "codemirror_mode": {
    "name": "ipython",
    "version": 3
   },
   "file_extension": ".py",
   "mimetype": "text/x-python",
   "name": "python",
   "nbconvert_exporter": "python",
   "pygments_lexer": "ipython3",
   "version": "3.7.4"
  }
 },
 "nbformat": 4,
 "nbformat_minor": 2
}
