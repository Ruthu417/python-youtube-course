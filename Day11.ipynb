{
 "cells": [
  {
   "cell_type": "markdown",
   "metadata": {},
   "source": [
    "### Working with loops"
   ]
  },
  {
   "cell_type": "code",
   "execution_count": 1,
   "metadata": {
    "collapsed": true
   },
   "outputs": [
    {
     "ename": "SyntaxError",
     "evalue": "invalid syntax (<ipython-input-1-88bdb539ec55>, line 3)",
     "output_type": "error",
     "traceback": [
      "\u001b[1;36m  File \u001b[1;32m\"<ipython-input-1-88bdb539ec55>\"\u001b[1;36m, line \u001b[1;32m3\u001b[0m\n\u001b[1;33m    factor--a number which divides the given num exactly--0\u001b[0m\n\u001b[1;37m                   ^\u001b[0m\n\u001b[1;31mSyntaxError\u001b[0m\u001b[1;31m:\u001b[0m invalid syntax\n"
     ]
    }
   ],
   "source": [
    "# find the factors of a given num\n",
    "# 10:1,2,5,10\n",
    "factor--a number which divides the given num exactly--0\n",
    "1)10( #10:1 to 10 divisibility checking\n",
    "    --0\n",
    "2)10(5\n",
    "     --0\n",
    "3)10(3\n",
    "     ---1 (x)\n",
    "4)10(2\n",
    "     ---2(x)\n",
    "5)10(2\n",
    "     --0(yes)\n",
    "6)10(1\n",
    "     ----4\n",
    "7)10(1\n",
    "     ----3\n",
    "8)10(1\n",
    "     ---2\n",
    "9)10(1\n",
    "     ----1\n",
    "10)10(1\n",
    "      ----0\n",
    "# 1,2,5,10:1 to 5:factors of 10: 1 2 & 5:count--exclude"
   ]
  },
  {
   "cell_type": "code",
   "execution_count": 3,
   "metadata": {},
   "outputs": [
    {
     "name": "stdout",
     "output_type": "stream",
     "text": [
      "Enter any number:10\n",
      "The factors of a given no. are:1 2 5 10 "
     ]
    }
   ],
   "source": [
    "#10 find the factors\n",
    "n=int(input(\"Enter any number:\"))\n",
    "print(\"The factors of a given no. are\",end=\":\")\n",
    "for num in range(1,n+1):\n",
    "    if n%num==0:\n",
    "        print(num,end=\" \")"
   ]
  },
  {
   "cell_type": "code",
   "execution_count": 5,
   "metadata": {},
   "outputs": [
    {
     "name": "stdout",
     "output_type": "stream",
     "text": [
      "factors of given num:1 2 5 10 "
     ]
    }
   ],
   "source": [
    "# finding factors of a number using while loop\n",
    "start=1\n",
    "print(\"factors of given num\",end=\":\")\n",
    "while start<=n:\n",
    "    if n%start==0: # st=1;st=2;st=3...st=10\n",
    "        print(start,end=\" \")\n",
    "    start+=1 # increment"
   ]
  },
  {
   "cell_type": "code",
   "execution_count": 11,
   "metadata": {},
   "outputs": [
    {
     "name": "stdout",
     "output_type": "stream",
     "text": [
      "21\n",
      "1 3 7 "
     ]
    }
   ],
   "source": [
    "# 2nd logic:1 to n/2\n",
    "#10:1 2 5 (10/2)  1 to 6\n",
    "# time complexity reduction--iterations decrease..n times n/2 conditions\n",
    "x=int(input())\n",
    "for num in range(1,(x//2)+1):\n",
    "    if x%num==0:\n",
    "        print(num,end=\" \")"
   ]
  },
  {
   "cell_type": "code",
   "execution_count": 9,
   "metadata": {},
   "outputs": [
    {
     "data": {
      "text/plain": [
       "3.3333333333333335"
      ]
     },
     "execution_count": 9,
     "metadata": {},
     "output_type": "execute_result"
    }
   ],
   "source": [
    "10/3 # division"
   ]
  },
  {
   "cell_type": "code",
   "execution_count": 10,
   "metadata": {},
   "outputs": [
    {
     "data": {
      "text/plain": [
       "3"
      ]
     },
     "execution_count": 10,
     "metadata": {},
     "output_type": "execute_result"
    }
   ],
   "source": [
    "10//3"
   ]
  },
  {
   "cell_type": "code",
   "execution_count": 12,
   "metadata": {},
   "outputs": [
    {
     "data": {
      "text/plain": [
       "10.5"
      ]
     },
     "execution_count": 12,
     "metadata": {},
     "output_type": "execute_result"
    }
   ],
   "source": [
    "21/2"
   ]
  },
  {
   "cell_type": "code",
   "execution_count": 13,
   "metadata": {},
   "outputs": [
    {
     "data": {
      "text/plain": [
       "10"
      ]
     },
     "execution_count": 13,
     "metadata": {},
     "output_type": "execute_result"
    }
   ],
   "source": [
    "21//2"
   ]
  },
  {
   "cell_type": "code",
   "execution_count": 15,
   "metadata": {},
   "outputs": [],
   "source": [
    "# write a program to check whether given no. is prime or not\n",
    "# a number which has only 2 factors i.e., 1 & number itself\n",
    "# 3:1,3;2:1,27:1,7 # 2 factors\n",
    "# factors,count:\n",
    "#9:1 3 9 not prime num\n"
   ]
  },
  {
   "cell_type": "code",
   "execution_count": 27,
   "metadata": {},
   "outputs": [
    {
     "name": "stdout",
     "output_type": "stream",
     "text": [
      "11\n",
      "prime number\n"
     ]
    }
   ],
   "source": [
    "num=int(input())\n",
    "factors=0 # not started at \n",
    "for dig in range(1,num+1):\n",
    "    if num%dig==0: # factors checking\n",
    "        factors=factors+1 # counting the factors\n",
    "if factors==2:\n",
    "    print(\"prime number\")\n",
    "else:\n",
    "    print(\"Not a prime\")"
   ]
  },
  {
   "cell_type": "code",
   "execution_count": 28,
   "metadata": {},
   "outputs": [
    {
     "name": "stdout",
     "output_type": "stream",
     "text": [
      "prime\n"
     ]
    }
   ],
   "source": [
    "# prime number checking using while loop\n",
    "#num=int(input())\n",
    "start=1\n",
    "count=0\n",
    "while start<=num:\n",
    "    if num%start==0:\n",
    "        count+=1 # count=count+1\n",
    "    start+=1\n",
    "if count==2:\n",
    "    print('prime')\n",
    "else:\n",
    "    print(\"not a prime\")"
   ]
  },
  {
   "cell_type": "code",
   "execution_count": 29,
   "metadata": {
    "collapsed": true
   },
   "outputs": [
    {
     "ename": "SyntaxError",
     "evalue": "invalid syntax (<ipython-input-29-1dd99cb61412>, line 2)",
     "output_type": "error",
     "traceback": [
      "\u001b[1;36m  File \u001b[1;32m\"<ipython-input-29-1dd99cb61412>\"\u001b[1;36m, line \u001b[1;32m2\u001b[0m\n\u001b[1;33m    1 to n: 2 factors\u001b[0m\n\u001b[1;37m       ^\u001b[0m\n\u001b[1;31mSyntaxError\u001b[0m\u001b[1;31m:\u001b[0m invalid syntax\n"
     ]
    }
   ],
   "source": [
    "# n times iteration--n/2\n",
    "1 to n: 2 factors\n",
    "    n/2:1 factor\n",
    "9: 1 3 9:9//2:4-->1 to 4:1 & 3"
   ]
  },
  {
   "cell_type": "code",
   "execution_count": 31,
   "metadata": {},
   "outputs": [
    {
     "name": "stdout",
     "output_type": "stream",
     "text": [
      "Enter the number:15\n",
      "Not a prime\n"
     ]
    }
   ],
   "source": [
    "pr=int(input(\"Enter the number:\"))\n",
    "factors=0\n",
    "for num in range(1,(pr//2)+1):\n",
    "    if pr%num==0:\n",
    "        factors+=1\n",
    "if factors==1:\n",
    "    print(\"prime\")\n",
    "else:\n",
    "    print(\"Not a prime\")"
   ]
  },
  {
   "cell_type": "code",
   "execution_count": 32,
   "metadata": {},
   "outputs": [
    {
     "name": "stdout",
     "output_type": "stream",
     "text": [
      "Enter the sentenceI am RUthu From TeLUGU TEch LiFE\n",
      "I a U u o e U U E i E "
     ]
    }
   ],
   "source": [
    "# print the vowels separately present in a string read from user\n",
    "word=input(\"Enter the sentence\")\n",
    "# vowels=a,e,i,o,u,A,E,I,O,U\n",
    "# I am RUthu From TeLUGU TEch LiFE # lower case:a,u,o,e,i\n",
    "# upper :I U U U E E \n",
    "for ch in word:\n",
    "    if ch == 'a' or ch==\"e\" or ch==\"i\" or ch==\"o\" or ch==\"u\" or ch==\"A\" or ch==\"E\" or ch==\"I\" or ch==\"U\":\n",
    "        print(ch,end=\" \")"
   ]
  },
  {
   "cell_type": "code",
   "execution_count": 33,
   "metadata": {},
   "outputs": [
    {
     "name": "stdout",
     "output_type": "stream",
     "text": [
      "Lower case vowels:a u o e i \n",
      "Upper case vowels:I U U U E E "
     ]
    }
   ],
   "source": [
    "# separate --.\n",
    "# lower\n",
    "# upper\n",
    "print(\"Lower case vowels\",end=\":\")\n",
    "for ch in word:\n",
    "    if ch.islower(): # string methods\n",
    "        if ch=='a' or ch=='e' or ch=='i' or ch==\"o\" or ch=='u':\n",
    "            print(ch,end=\" \")\n",
    "print()\n",
    "print(\"Upper case vowels\",end=\":\")\n",
    "for ch in word:\n",
    "    if ch.isupper():\n",
    "        if ch=='A' or ch==\"E\" or ch==\"I\" or ch==\"O\" or ch==\"U\":\n",
    "            print(ch,end=\" \")"
   ]
  },
  {
   "cell_type": "code",
   "execution_count": 35,
   "metadata": {},
   "outputs": [
    {
     "name": "stdout",
     "output_type": "stream",
     "text": [
      "Sentence:Hi I am RUTHU FRom TElugU TeCH LIfe \n",
      "lowercase vowels:i a o u e e \n",
      "upper case vowels:I U U E U I "
     ]
    }
   ],
   "source": [
    "vowels=\"aeiouAEIOU\"\n",
    "sentence=input(\"Sentence:\")\n",
    "print(\"lowercase vowels\",end=\":\")\n",
    "for ch in sentence:\n",
    "    if ch in vowels:\n",
    "        if ch.islower():\n",
    "            print(ch,end=\" \")\n",
    "print()\n",
    "print(\"upper case vowels\",end=\":\")\n",
    "for ch in sentence:\n",
    "    if ch in vowels:\n",
    "        if ch.isupper():\n",
    "            print(ch,end=\" \")\n",
    "        "
   ]
  },
  {
   "cell_type": "code",
   "execution_count": 36,
   "metadata": {},
   "outputs": [
    {
     "name": "stdout",
     "output_type": "stream",
     "text": [
      "retyuio443234567dfghj\n",
      "4 4 3 2 3 4 5 6 7 "
     ]
    }
   ],
   "source": [
    "# alnumeric:string:9845789405hdjkvklsejfdh\n",
    "# only digits from the string\n",
    "st=input()\n",
    "for ch in st:\n",
    "    if ch.isdigit(): # digit checking\n",
    "        print(ch,end=\" \")"
   ]
  },
  {
   "cell_type": "code",
   "execution_count": null,
   "metadata": {},
   "outputs": [],
   "source": []
  }
 ],
 "metadata": {
  "kernelspec": {
   "display_name": "Python 3",
   "language": "python",
   "name": "python3"
  },
  "language_info": {
   "codemirror_mode": {
    "name": "ipython",
    "version": 3
   },
   "file_extension": ".py",
   "mimetype": "text/x-python",
   "name": "python",
   "nbconvert_exporter": "python",
   "pygments_lexer": "ipython3",
   "version": "3.7.4"
  }
 },
 "nbformat": 4,
 "nbformat_minor": 2
}
