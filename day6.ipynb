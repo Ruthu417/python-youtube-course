{
 "cells": [
  {
   "cell_type": "markdown",
   "metadata": {},
   "source": [
    "### Today Topics\n",
    "- conditional or decision making statements\n",
    "- **if,else,ellse if(elif)**\n"
   ]
  },
  {
   "cell_type": "markdown",
   "metadata": {},
   "source": [
    "#### IF\n",
    "- Syntax:\n",
    "    - if conditon/expression:\n",
    "        - statements"
   ]
  },
  {
   "cell_type": "code",
   "execution_count": 1,
   "metadata": {},
   "outputs": [
    {
     "name": "stdout",
     "output_type": "stream",
     "text": [
      "x is greater than y\n"
     ]
    }
   ],
   "source": [
    "# x and y \n",
    "# write a python program to check largest between 2 no.s\n",
    "x,y=10,8\n",
    "if x>y:\n",
    "    print(\"x is greater than y\")"
   ]
  },
  {
   "cell_type": "code",
   "execution_count": 3,
   "metadata": {},
   "outputs": [
    {
     "name": "stdout",
     "output_type": "stream",
     "text": [
      "first number:40\n",
      "second number:72\n",
      "second is greater\n"
     ]
    }
   ],
   "source": [
    "# unknown values \n",
    "f,s=int(input(\"first number:\")),int(input(\"second number:\"))\n",
    "if f>s:\n",
    "    print(\"first number is greater than second\")\n",
    "else:\n",
    "    print(\"second is greater\")"
   ]
  },
  {
   "cell_type": "code",
   "execution_count": 4,
   "metadata": {},
   "outputs": [],
   "source": [
    "# reading input from user and you do not know +ve or -ve no or 0\n",
    "# v,con,special-->corresponding msg"
   ]
  },
  {
   "cell_type": "code",
   "execution_count": 8,
   "metadata": {
    "collapsed": true
   },
   "outputs": [
    {
     "name": "stdout",
     "output_type": "stream",
     "text": [
      "enter number:0\n",
      "zero\n"
     ]
    }
   ],
   "source": [
    "# program to print corresponding msg either +ve or -ve or 0\n",
    "num=int(input('enter number:'))\n",
    "if num>0:\n",
    "    print(\"positive integer\")\n",
    "elif num<0:\n",
    "    print('negative integer')\n",
    "else:\n",
    "    print(\"zero\")"
   ]
  },
  {
   "cell_type": "code",
   "execution_count": 11,
   "metadata": {},
   "outputs": [
    {
     "name": "stdout",
     "output_type": "stream",
     "text": [
      "/\n",
      "consonant\n"
     ]
    }
   ],
   "source": [
    "# program to check type of character\n",
    "st=input()\n",
    "if st==\"a\" or st==\"e\" or st=='i' or st=='o' or st=='u' or st=='A' or st==\"E\" or st==\"I\" or st=='O' or st==\"U\":\n",
    "    print(\"entered character is vowel\")\n",
    "elif st=='#' or st=='!' or st=='$':\n",
    "    print(\"special character\")\n",
    "else:\n",
    "    print(\"consonant\")"
   ]
  },
  {
   "cell_type": "code",
   "execution_count": 19,
   "metadata": {},
   "outputs": [
    {
     "name": "stdout",
     "output_type": "stream",
     "text": [
      "enter the characterd\n",
      "consonant\n"
     ]
    }
   ],
   "source": [
    "ch=input(\"enter the character\") #character from user\n",
    "vowels=\"aeiouAEIOU\"\n",
    "specials=\"!@#$%^&*?\"\n",
    "if ch in vowels:\n",
    "    print(\"vowel\")\n",
    "elif ch in specials:\n",
    "    print(\"special character\")\n",
    "elif (ch not in vowels) and (ch not in specials):\n",
    "    print(\"consonant\")"
   ]
  },
  {
   "cell_type": "code",
   "execution_count": 21,
   "metadata": {},
   "outputs": [
    {
     "name": "stdout",
     "output_type": "stream",
     "text": [
      "first number:56\n",
      "second number:10\n",
      "third number:90\n",
      "third is larger\n"
     ]
    }
   ],
   "source": [
    "# write a program to check largest among three no.s\n",
    "a,b,c=int(input(\"first number:\")),int(input(\"second number:\")),int(input(\"third number:\"))\n",
    "if a>b and a>c:\n",
    "    print(\"first is larger\")\n",
    "elif b>a and b>c:\n",
    "    print(\"middle is larger\")\n",
    "else:\n",
    "    print(\"third is larger\")"
   ]
  },
  {
   "cell_type": "markdown",
   "metadata": {},
   "source": [
    "### Nested conditions\n",
    " - Nested if \n",
    "     - if condition in if\n",
    "         - if condition:\n",
    "             if condition:\n",
    "                 statements"
   ]
  },
  {
   "cell_type": "code",
   "execution_count": 25,
   "metadata": {},
   "outputs": [
    {
     "data": {
      "text/plain": [
       "'A'"
      ]
     },
     "execution_count": 25,
     "metadata": {},
     "output_type": "execute_result"
    }
   ],
   "source": [
    "# a no. should be lower than 100 and if it is odd then print it's corresponding character\n",
    "#ascii--American Standard Code for Information Interchange\n",
    "ord('A') # gives the ascii value of A\n",
    "chr(65) # gives the corresponding char of number"
   ]
  },
  {
   "cell_type": "code",
   "execution_count": 1,
   "metadata": {},
   "outputs": [
    {
     "name": "stdout",
     "output_type": "stream",
     "text": [
      "Enter the number67\n",
      "Character of number: C\n"
     ]
    }
   ],
   "source": [
    "# odd num:if a number gives remainder 1 if it divides by 2\n",
    "n=int(input(\"Enter the number\"))\n",
    "if n<=100:\n",
    "    if n%2==1:\n",
    "        print(\"Character of number:\",chr(n))"
   ]
  },
  {
   "cell_type": "code",
   "execution_count": 3,
   "metadata": {},
   "outputs": [
    {
     "name": "stdout",
     "output_type": "stream",
     "text": [
      "Enter the number45\n",
      "Character of number: -\n"
     ]
    }
   ],
   "source": [
    "# odd num:if a number gives remainder 1 if it divides by 2\n",
    "# x%2==0,1\n",
    "n=int(input(\"Enter the number\"))\n",
    "if n<=100:\n",
    "    if n%2==1:\n",
    "        print(\"Character of number:\",chr(n))\n",
    "    else:\n",
    "        print(\"even number\")"
   ]
  },
  {
   "cell_type": "code",
   "execution_count": null,
   "metadata": {},
   "outputs": [],
   "source": []
  }
 ],
 "metadata": {
  "kernelspec": {
   "display_name": "Python 3",
   "language": "python",
   "name": "python3"
  },
  "language_info": {
   "codemirror_mode": {
    "name": "ipython",
    "version": 3
   },
   "file_extension": ".py",
   "mimetype": "text/x-python",
   "name": "python",
   "nbconvert_exporter": "python",
   "pygments_lexer": "ipython3",
   "version": "3.7.4"
  }
 },
 "nbformat": 4,
 "nbformat_minor": 2
}
